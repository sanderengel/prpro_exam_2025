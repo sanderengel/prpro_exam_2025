{
 "cells": [
  {
   "cell_type": "markdown",
   "metadata": {},
   "source": [
    "# Energy consumption of a Web Application Implemented in Different Programming Languages and Web Frameworks\n",
    "*Probabilistic Programming 2025 Exam by Raúl Pardo ([raup@itu.dk](mailto:raup@itu.dk)) and Andrzej Wąsowski ([wasowski@itu.dk](mailto:wasowski@itu.dk))*<br/>\n",
    "*version 1.0.0 2025-03-20 08:40*\n"
   ]
  },
  {
   "cell_type": "markdown",
   "metadata": {},
   "source": [
    "In this exam, your task is to analyze energy consumption of different implementations of a web application.\n",
    "The goal is to determine whether there are differences in energy consumption in different implementations of the web application or in its API endpoints.\n",
    "This analysis is of utmost importance, as it might help software engineers to make informed choices that lower energy consumption. For instance, a plausible hypothesis is that lower level programming languages such as Rust consume less energy than higher level languages such as Python.\n",
    "A preconception in this domain is that running time is the driving factor in energy consumption.\n",
    "Are these true? The data in this exam and the analysis you will develop will allow to answer this type of questions."
   ]
  },
  {
   "cell_type": "markdown",
   "metadata": {},
   "source": [
    "## Data"
   ]
  },
  {
   "cell_type": "markdown",
   "metadata": {},
   "source": [
    "The dataset contains $N = 1960$ measurements of energy consumption for different implementations and functionality of a web application. For each setup, there are 20 measurements. The dataset is in the file [dataset.csv](dataset.csv). The variables in the dataset are:\n",
    "\n",
    "* **Application**. This variable has the form `<programming_language>-<web_framework>`. It specifies the programming language and web framework used in the experiment. For instance, `rust-actix` denotes the web framework Actix for the programming language Rust, or `c-sharp-razor` denotes the web framework Razor for the programming language C#.\n",
    "    * Note that if a hypothesis involves only programming language, you need to extract it from the values in this variable.\n",
    "\n",
    "* **Endpoint**. This variable refers to the API endpoints of the web application. For example, `/api/register` refers to the API endpoint used for registering users in the web application, or `/logout` is used for logging out of the system.\n",
    "\n",
    "* **Runtime**. This variable indicates the time it took to process the request to the endpoint in seconds.\n",
    "\n",
    "* **Energy consumption**. This variable indicates the energy consumed for processing the request to the endpoint in Joules.\n",
    "\n",
    "Each row in the dataset is a measurement of the total energy consumed and runtime after processing a request in the corresponding API endpoint. The *Application* variable in each row indicates the web framework used for the measurement."
   ]
  },
  {
   "cell_type": "markdown",
   "metadata": {},
   "source": [
    "## Hypotheses\n",
    "\n",
    "To analyze energy consumption in the different implementations, you must investigate the following hypotheses:\n",
    "\n",
    "* **H1** - The web framework `c-sharp-razor` consumes more energy than any other web framework in the dataset.\n",
    "\n",
    "* **H2** - The programming language `javascript` consumes the least amount of energy compared to any other programming language in the dataset.\n",
    "\n",
    "* **H3** - Runtime has a stronger impact on energy consumption for some API endpoints than others. That is, the effect of runtime on energy consumption is larger for some API endpoints than others."
   ]
  },
  {
   "cell_type": "markdown",
   "metadata": {},
   "source": [
    "Your task is to use Bayesian Inference and Regression to decide whether these hypotheses hold, or possibly reject them. This includes:\n",
    "\n",
    "* Loading, restructuring and transforming the data as needed.\n",
    "\n",
    "* Designing Bayesian regression models and using inference algorithms to test the above hypotheses in PyMC.\n",
    "\n",
    "* Explaining your model idea in English, preferably using a figure, and showing the Python code.\n",
    "\n",
    "* Checking and reflecting (in writing) on the quality of the sampling process, considering warnings from the tool, sampling summary statistics, trace plots, and autocorrelation plots. Comment whether the quality of the sampled trace is good, and whether you had to make any adjustments during modeling and/or sampling.\n",
    "\n",
    "* Visualizing the posterior information appropriately to address the hypotheses.\n",
    "  \n",
    "\n",
    "You should hand in a zip file with a Jupyter notebook and the data file (so that we can run it), and a **PDF file rendering of the Jupyter notebook**, so that your work can be assessed just by reading this file. It appears that the best PDF rendering is obtained by File / Export to HTML, and then saving/printing to PDF from your browser.\n",
    "\n",
    "Make sure the notebook is actually a **report** readable to the examiners, especially to the censor who has not followed the course. The report should include:\n",
    "* A brief introduction.\n",
    "* Explanations on how data is loaded and cleaned.\n",
    "* Explanations on analysis and model design (for each of the models you consider).\n",
    "* A discussion of sampling quality (for each model) and all the plots that you present, and a reflection/decision on the outcome for each hypothesis.\n",
    "* An overall conclusion.\n",
    "\n",
    "**IMPORTANT:** For the tasks below, your code must accompany an explanation of its meaning and intended purpose. **Source code alone is not self-explanatory**. As mentioned above, you should also reflect on the results you get, e.g., highlighting issues with the data, or issues, pitfalls and assumptions of a model. **Exams containing only source code or very scarce explanations will result in low grades, including failing grades.**\n",
    "\n"
   ]
  },
  {
   "cell_type": "markdown",
   "metadata": {},
   "source": [
    "\n",
    "\n",
    "## Minimum requirements \n",
    "\n",
    "1. Design a regression model to predict energy consumption using web framework as a predictor.\n",
    "  \n",
    "2. Analyze hypothesis H1 using the regression model in (1.).\n",
    "\n",
    "## Ideas for extension\n",
    "\n",
    "**Groups aiming at grade 7 and more should complete the following tasks:**\n",
    "    \n",
    "3. Analyze hypothesis H2, if necessary design a new model.\n",
    "        \n",
    "4. Perform prior predictive checks in all your models. Explain why the priors you selected are appropriate.\n",
    "    \n",
    "5. Perform posterior predictive checks in all your models. Discuss the results in the posterior predictive checks.\n",
    "    \n",
    "6. Discuss trace convergence in all your models.\n",
    "    \n",
    "**Groups aiming at grade 10 and higher should try 3-5 ideas from below or add some of your own:**\n",
    "\n",
    "7. Analyze hypothesis H3, if necessary design a new model.\n",
    "    \n",
    "8. Perform a counterfactual analysis in your model for H3: For each endpoint, plot posterior predictions on energy consumption for a runtime value much larger than those in the dataset. Does this affect/introduce differences between energy consumption for different endpoints?\n",
    "    \n",
    "9. Design models with a transformation of the predicted variable, i.e., energy consumption. For instance, \n",
    "    * Build a model to analyze the probability that the energy consumption of a web framework is below 0.4 Joules. You may consider versions of this task involving other predictors.\n",
    "    * Transform energy consumption into an ordinal variable representing an energy mark, e.g., an energy consumption in 0.0-0.2 is energy mark A, energy consumption in 0.2-0.4 is energy mark B and energy consumption of ≥ 0.4 is energy mark C. Use an ordinal regression model to analyze the energy mark of each framework. You may consider versions of this task involving other predictors.\n",
    "    \n",
    "10. Use information criteria to compare the models to analyze H1, H2 and H3.\n",
    "    \n",
    "11. Design a meaningful multilevel model in the context of these data.\n",
    "   \n",
    "12. Use causal reasoning to analyze causal relations between the variables in the dataset."
   ]
  },
  {
   "cell_type": "markdown",
   "metadata": {
    "vscode": {
     "languageId": "plaintext"
    }
   },
   "source": [
    "---"
   ]
  },
  {
   "cell_type": "markdown",
   "metadata": {},
   "source": [
    "# Introduction"
   ]
  },
  {
   "cell_type": "markdown",
   "metadata": {},
   "source": [
    "introduction\n",
    "\n",
    "We have this task at hand bla bla\n",
    "\n",
    "We start with H1, the Causal Inference Model (DAG: Directed Acyclic Graph) below provides a conceptual overview over our model and its response variables and predictors"
   ]
  },
  {
   "cell_type": "code",
   "execution_count": 1,
   "metadata": {},
   "outputs": [],
   "source": [
    "import numpy as np\n",
    "import pandas as pd\n",
    "import arviz as az\n",
    "import pymc as pm\n",
    "import matplotlib.pyplot as plt"
   ]
  },
  {
   "cell_type": "code",
   "execution_count": 8,
   "metadata": {},
   "outputs": [],
   "source": [
    "df = pd.read_csv('dataset.csv')"
   ]
  },
  {
   "cell_type": "code",
   "execution_count": 9,
   "metadata": {},
   "outputs": [],
   "source": [
    "df = pd.get_dummies(df, columns=[\"application\"], drop_first=True)"
   ]
  },
  {
   "cell_type": "code",
   "execution_count": 10,
   "metadata": {},
   "outputs": [
    {
     "data": {
      "application/vnd.microsoft.datawrangler.viewer.v0+json": {
       "columns": [
        {
         "name": "index",
         "rawType": "int64",
         "type": "integer"
        },
        {
         "name": "endpoint",
         "rawType": "object",
         "type": "string"
        },
        {
         "name": "energy_consumption",
         "rawType": "float64",
         "type": "float"
        },
        {
         "name": "runtime",
         "rawType": "float64",
         "type": "float"
        },
        {
         "name": "application_go-gin",
         "rawType": "bool",
         "type": "boolean"
        },
        {
         "name": "application_go-gorilla",
         "rawType": "bool",
         "type": "boolean"
        },
        {
         "name": "application_javascript-express",
         "rawType": "bool",
         "type": "boolean"
        },
        {
         "name": "application_python-flask",
         "rawType": "bool",
         "type": "boolean"
        },
        {
         "name": "application_ruby-sinatra",
         "rawType": "bool",
         "type": "boolean"
        },
        {
         "name": "application_rust-actix",
         "rawType": "bool",
         "type": "boolean"
        }
       ],
       "conversionMethod": "pd.DataFrame",
       "ref": "98c08258-037b-4977-8d74-50dd1489d8a5",
       "rows": [
        [
         "0",
         "/api/register",
         "0.4493584406276907",
         "0.1488120555877685",
         "False",
         "False",
         "False",
         "False",
         "False",
         "True"
        ],
        [
         "1",
         "/api/register",
         "0.4338710918675588",
         "0.1488950252532959",
         "False",
         "False",
         "False",
         "False",
         "False",
         "True"
        ],
        [
         "2",
         "/api/register",
         "0.2708436065876184",
         "0.094728946685791",
         "False",
         "False",
         "False",
         "False",
         "False",
         "True"
        ],
        [
         "3",
         "/api/register",
         "0.4797763649394256",
         "0.1634671688079834",
         "False",
         "False",
         "False",
         "False",
         "False",
         "True"
        ],
        [
         "4",
         "/api/register",
         "0.2688328697571478",
         "0.0922999382019043",
         "False",
         "False",
         "False",
         "False",
         "False",
         "True"
        ],
        [
         "5",
         "/api/register",
         "0.2702365128308768",
         "0.0925853252410888",
         "False",
         "False",
         "False",
         "False",
         "False",
         "True"
        ],
        [
         "6",
         "/api/register",
         "0.2764840322390682",
         "0.0945019721984863",
         "False",
         "False",
         "False",
         "False",
         "False",
         "True"
        ],
        [
         "7",
         "/api/register",
         "0.4777908933456274",
         "0.1634671688079834",
         "False",
         "False",
         "False",
         "False",
         "False",
         "True"
        ],
        [
         "8",
         "/api/register",
         "0.4469782898038941",
         "0.1480019092559814",
         "False",
         "False",
         "False",
         "False",
         "False",
         "True"
        ],
        [
         "9",
         "/api/register",
         "0.2807451948908122",
         "0.0957138538360595",
         "False",
         "False",
         "False",
         "False",
         "False",
         "True"
        ],
        [
         "10",
         "/api/register",
         "0.275577776656746",
         "0.0946917533874511",
         "False",
         "False",
         "False",
         "False",
         "False",
         "True"
        ],
        [
         "11",
         "/api/register",
         "0.2674819997358781",
         "0.0936589241027832",
         "False",
         "False",
         "False",
         "False",
         "False",
         "True"
        ],
        [
         "12",
         "/api/register",
         "0.2747045620658352",
         "0.0936870574951171",
         "False",
         "False",
         "False",
         "False",
         "False",
         "True"
        ],
        [
         "13",
         "/api/register",
         "0.2658132729318936",
         "0.0910179615020752",
         "False",
         "False",
         "False",
         "False",
         "False",
         "True"
        ],
        [
         "14",
         "/api/register",
         "0.4398228676238885",
         "0.1506121158599853",
         "False",
         "False",
         "False",
         "False",
         "False",
         "True"
        ],
        [
         "15",
         "/api/register",
         "0.2752072942618609",
         "0.0942761898040771",
         "False",
         "False",
         "False",
         "False",
         "False",
         "True"
        ],
        [
         "16",
         "/api/register",
         "0.5630224351607466",
         "0.1927711963653564",
         "False",
         "False",
         "False",
         "False",
         "False",
         "True"
        ],
        [
         "17",
         "/api/register",
         "0.2706266993884582",
         "0.0926671028137207",
         "False",
         "False",
         "False",
         "False",
         "False",
         "True"
        ],
        [
         "18",
         "/api/register",
         "0.4416270297774074",
         "0.1506121158599853",
         "False",
         "False",
         "False",
         "False",
         "False",
         "True"
        ],
        [
         "19",
         "/api/register",
         "0.2706957477806781",
         "0.0913131237030029",
         "False",
         "False",
         "False",
         "False",
         "False",
         "True"
        ],
        [
         "20",
         "/api/register",
         "0.5841972949619958",
         "0.1956791877746582",
         "False",
         "False",
         "False",
         "False",
         "True",
         "False"
        ],
        [
         "21",
         "/api/register",
         "0.5881046508206963",
         "0.195897102355957",
         "False",
         "False",
         "False",
         "False",
         "True",
         "False"
        ],
        [
         "22",
         "/api/register",
         "0.5890982909642161",
         "0.1962590217590332",
         "False",
         "False",
         "False",
         "False",
         "True",
         "False"
        ],
        [
         "23",
         "/api/register",
         "0.6001181565943623",
         "0.1956138610839843",
         "False",
         "False",
         "False",
         "False",
         "True",
         "False"
        ],
        [
         "24",
         "/api/register",
         "0.6044563422080954",
         "0.1932110786437988",
         "False",
         "False",
         "False",
         "False",
         "True",
         "False"
        ],
        [
         "25",
         "/api/register",
         "0.7157190034071729",
         "0.195674180984497",
         "False",
         "False",
         "False",
         "False",
         "True",
         "False"
        ],
        [
         "26",
         "/api/register",
         "0.6162752726751249",
         "0.2059569358825683",
         "False",
         "False",
         "False",
         "False",
         "True",
         "False"
        ],
        [
         "27",
         "/api/register",
         "0.5875811870786264",
         "0.1940350532531738",
         "False",
         "False",
         "False",
         "False",
         "True",
         "False"
        ],
        [
         "28",
         "/api/register",
         "0.5843676884742873",
         "0.1947600841522216",
         "False",
         "False",
         "False",
         "False",
         "True",
         "False"
        ],
        [
         "29",
         "/api/register",
         "0.5713378944683993",
         "0.1952641010284423",
         "False",
         "False",
         "False",
         "False",
         "True",
         "False"
        ],
        [
         "30",
         "/api/register",
         "0.5834586716858323",
         "0.1947128772735595",
         "False",
         "False",
         "False",
         "False",
         "True",
         "False"
        ],
        [
         "31",
         "/api/register",
         "0.5757538143973305",
         "0.1937460899353027",
         "False",
         "False",
         "False",
         "False",
         "True",
         "False"
        ],
        [
         "32",
         "/api/register",
         "0.6132945149906844",
         "0.2059569358825683",
         "False",
         "False",
         "False",
         "False",
         "True",
         "False"
        ],
        [
         "33",
         "/api/register",
         "0.5811726626399148",
         "0.1943099498748779",
         "False",
         "False",
         "False",
         "False",
         "True",
         "False"
        ],
        [
         "34",
         "/api/register",
         "0.6079680281686703",
         "0.2037179470062255",
         "False",
         "False",
         "False",
         "False",
         "True",
         "False"
        ],
        [
         "35",
         "/api/register",
         "0.5909846953462078",
         "0.1969091892242431",
         "False",
         "False",
         "False",
         "False",
         "True",
         "False"
        ],
        [
         "36",
         "/api/register",
         "0.5787379476797125",
         "0.1936309337615966",
         "False",
         "False",
         "False",
         "False",
         "True",
         "False"
        ],
        [
         "37",
         "/api/register",
         "0.5835730211498457",
         "0.1949951648712158",
         "False",
         "False",
         "False",
         "False",
         "True",
         "False"
        ],
        [
         "38",
         "/api/register",
         "0.5884973420779714",
         "0.1963729858398437",
         "False",
         "False",
         "False",
         "False",
         "True",
         "False"
        ],
        [
         "39",
         "/api/register",
         "0.5789493179916007",
         "0.1975617408752441",
         "False",
         "False",
         "False",
         "False",
         "True",
         "False"
        ],
        [
         "40",
         "/api/register",
         "0.4835881760811842",
         "0.1281499862670898",
         "False",
         "True",
         "False",
         "False",
         "False",
         "False"
        ],
        [
         "41",
         "/api/register",
         "0.4259970705379601",
         "0.1435070037841797",
         "False",
         "True",
         "False",
         "False",
         "False",
         "False"
        ],
        [
         "42",
         "/api/register",
         "0.3876895286540501",
         "0.1307461261749267",
         "False",
         "True",
         "False",
         "False",
         "False",
         "False"
        ],
        [
         "43",
         "/api/register",
         "0.3855730688046602",
         "0.1277580261230468",
         "False",
         "True",
         "False",
         "False",
         "False",
         "False"
        ],
        [
         "44",
         "/api/register",
         "0.3855762509065242",
         "0.1298160552978515",
         "False",
         "True",
         "False",
         "False",
         "False",
         "False"
        ],
        [
         "45",
         "/api/register",
         "0.3889759769294868",
         "0.1277499198913574",
         "False",
         "True",
         "False",
         "False",
         "False",
         "False"
        ],
        [
         "46",
         "/api/register",
         "0.3772413171654989",
         "0.1285860538482666",
         "False",
         "True",
         "False",
         "False",
         "False",
         "False"
        ],
        [
         "47",
         "/api/register",
         "0.3729707032107397",
         "0.1281499862670898",
         "False",
         "True",
         "False",
         "False",
         "False",
         "False"
        ],
        [
         "48",
         "/api/register",
         "0.3850522803366516",
         "0.130173921585083",
         "False",
         "True",
         "False",
         "False",
         "False",
         "False"
        ],
        [
         "49",
         "/api/register",
         "0.3722042712927303",
         "0.1278462409973144",
         "False",
         "True",
         "False",
         "False",
         "False",
         "False"
        ]
       ],
       "shape": {
        "columns": 9,
        "rows": 1960
       }
      },
      "text/html": [
       "<div>\n",
       "<style scoped>\n",
       "    .dataframe tbody tr th:only-of-type {\n",
       "        vertical-align: middle;\n",
       "    }\n",
       "\n",
       "    .dataframe tbody tr th {\n",
       "        vertical-align: top;\n",
       "    }\n",
       "\n",
       "    .dataframe thead th {\n",
       "        text-align: right;\n",
       "    }\n",
       "</style>\n",
       "<table border=\"1\" class=\"dataframe\">\n",
       "  <thead>\n",
       "    <tr style=\"text-align: right;\">\n",
       "      <th></th>\n",
       "      <th>endpoint</th>\n",
       "      <th>energy_consumption</th>\n",
       "      <th>runtime</th>\n",
       "      <th>application_go-gin</th>\n",
       "      <th>application_go-gorilla</th>\n",
       "      <th>application_javascript-express</th>\n",
       "      <th>application_python-flask</th>\n",
       "      <th>application_ruby-sinatra</th>\n",
       "      <th>application_rust-actix</th>\n",
       "    </tr>\n",
       "  </thead>\n",
       "  <tbody>\n",
       "    <tr>\n",
       "      <th>0</th>\n",
       "      <td>/api/register</td>\n",
       "      <td>0.449358</td>\n",
       "      <td>0.148812</td>\n",
       "      <td>False</td>\n",
       "      <td>False</td>\n",
       "      <td>False</td>\n",
       "      <td>False</td>\n",
       "      <td>False</td>\n",
       "      <td>True</td>\n",
       "    </tr>\n",
       "    <tr>\n",
       "      <th>1</th>\n",
       "      <td>/api/register</td>\n",
       "      <td>0.433871</td>\n",
       "      <td>0.148895</td>\n",
       "      <td>False</td>\n",
       "      <td>False</td>\n",
       "      <td>False</td>\n",
       "      <td>False</td>\n",
       "      <td>False</td>\n",
       "      <td>True</td>\n",
       "    </tr>\n",
       "    <tr>\n",
       "      <th>2</th>\n",
       "      <td>/api/register</td>\n",
       "      <td>0.270844</td>\n",
       "      <td>0.094729</td>\n",
       "      <td>False</td>\n",
       "      <td>False</td>\n",
       "      <td>False</td>\n",
       "      <td>False</td>\n",
       "      <td>False</td>\n",
       "      <td>True</td>\n",
       "    </tr>\n",
       "    <tr>\n",
       "      <th>3</th>\n",
       "      <td>/api/register</td>\n",
       "      <td>0.479776</td>\n",
       "      <td>0.163467</td>\n",
       "      <td>False</td>\n",
       "      <td>False</td>\n",
       "      <td>False</td>\n",
       "      <td>False</td>\n",
       "      <td>False</td>\n",
       "      <td>True</td>\n",
       "    </tr>\n",
       "    <tr>\n",
       "      <th>4</th>\n",
       "      <td>/api/register</td>\n",
       "      <td>0.268833</td>\n",
       "      <td>0.092300</td>\n",
       "      <td>False</td>\n",
       "      <td>False</td>\n",
       "      <td>False</td>\n",
       "      <td>False</td>\n",
       "      <td>False</td>\n",
       "      <td>True</td>\n",
       "    </tr>\n",
       "    <tr>\n",
       "      <th>...</th>\n",
       "      <td>...</td>\n",
       "      <td>...</td>\n",
       "      <td>...</td>\n",
       "      <td>...</td>\n",
       "      <td>...</td>\n",
       "      <td>...</td>\n",
       "      <td>...</td>\n",
       "      <td>...</td>\n",
       "      <td>...</td>\n",
       "    </tr>\n",
       "    <tr>\n",
       "      <th>1955</th>\n",
       "      <td>/logout</td>\n",
       "      <td>0.096436</td>\n",
       "      <td>0.032214</td>\n",
       "      <td>False</td>\n",
       "      <td>False</td>\n",
       "      <td>True</td>\n",
       "      <td>False</td>\n",
       "      <td>False</td>\n",
       "      <td>False</td>\n",
       "    </tr>\n",
       "    <tr>\n",
       "      <th>1956</th>\n",
       "      <td>/logout</td>\n",
       "      <td>0.097559</td>\n",
       "      <td>0.032214</td>\n",
       "      <td>False</td>\n",
       "      <td>False</td>\n",
       "      <td>True</td>\n",
       "      <td>False</td>\n",
       "      <td>False</td>\n",
       "      <td>False</td>\n",
       "    </tr>\n",
       "    <tr>\n",
       "      <th>1957</th>\n",
       "      <td>/logout</td>\n",
       "      <td>0.096922</td>\n",
       "      <td>0.032214</td>\n",
       "      <td>False</td>\n",
       "      <td>False</td>\n",
       "      <td>True</td>\n",
       "      <td>False</td>\n",
       "      <td>False</td>\n",
       "      <td>False</td>\n",
       "    </tr>\n",
       "    <tr>\n",
       "      <th>1958</th>\n",
       "      <td>/logout</td>\n",
       "      <td>0.097086</td>\n",
       "      <td>0.032214</td>\n",
       "      <td>False</td>\n",
       "      <td>False</td>\n",
       "      <td>True</td>\n",
       "      <td>False</td>\n",
       "      <td>False</td>\n",
       "      <td>False</td>\n",
       "    </tr>\n",
       "    <tr>\n",
       "      <th>1959</th>\n",
       "      <td>/logout</td>\n",
       "      <td>0.096938</td>\n",
       "      <td>0.032214</td>\n",
       "      <td>False</td>\n",
       "      <td>False</td>\n",
       "      <td>True</td>\n",
       "      <td>False</td>\n",
       "      <td>False</td>\n",
       "      <td>False</td>\n",
       "    </tr>\n",
       "  </tbody>\n",
       "</table>\n",
       "<p>1960 rows × 9 columns</p>\n",
       "</div>"
      ],
      "text/plain": [
       "           endpoint  energy_consumption   runtime  application_go-gin  \\\n",
       "0     /api/register            0.449358  0.148812               False   \n",
       "1     /api/register            0.433871  0.148895               False   \n",
       "2     /api/register            0.270844  0.094729               False   \n",
       "3     /api/register            0.479776  0.163467               False   \n",
       "4     /api/register            0.268833  0.092300               False   \n",
       "...             ...                 ...       ...                 ...   \n",
       "1955        /logout            0.096436  0.032214               False   \n",
       "1956        /logout            0.097559  0.032214               False   \n",
       "1957        /logout            0.096922  0.032214               False   \n",
       "1958        /logout            0.097086  0.032214               False   \n",
       "1959        /logout            0.096938  0.032214               False   \n",
       "\n",
       "      application_go-gorilla  application_javascript-express  \\\n",
       "0                      False                           False   \n",
       "1                      False                           False   \n",
       "2                      False                           False   \n",
       "3                      False                           False   \n",
       "4                      False                           False   \n",
       "...                      ...                             ...   \n",
       "1955                   False                            True   \n",
       "1956                   False                            True   \n",
       "1957                   False                            True   \n",
       "1958                   False                            True   \n",
       "1959                   False                            True   \n",
       "\n",
       "      application_python-flask  application_ruby-sinatra  \\\n",
       "0                        False                     False   \n",
       "1                        False                     False   \n",
       "2                        False                     False   \n",
       "3                        False                     False   \n",
       "4                        False                     False   \n",
       "...                        ...                       ...   \n",
       "1955                     False                     False   \n",
       "1956                     False                     False   \n",
       "1957                     False                     False   \n",
       "1958                     False                     False   \n",
       "1959                     False                     False   \n",
       "\n",
       "      application_rust-actix  \n",
       "0                       True  \n",
       "1                       True  \n",
       "2                       True  \n",
       "3                       True  \n",
       "4                       True  \n",
       "...                      ...  \n",
       "1955                   False  \n",
       "1956                   False  \n",
       "1957                   False  \n",
       "1958                   False  \n",
       "1959                   False  \n",
       "\n",
       "[1960 rows x 9 columns]"
      ]
     },
     "execution_count": 10,
     "metadata": {},
     "output_type": "execute_result"
    }
   ],
   "source": [
    "df"
   ]
  },
  {
   "cell_type": "code",
   "execution_count": 11,
   "metadata": {},
   "outputs": [
    {
     "name": "stderr",
     "output_type": "stream",
     "text": [
      "Initializing NUTS using jitter+adapt_diag...\n",
      "Multiprocess sampling (4 chains in 4 jobs)\n",
      "NUTS: [alpha, application_go-gin, application_go-gorilla, application_javascript-express, application_python-flask, application_ruby-sinatra, application_rust-actix, sigma]\n"
     ]
    },
    {
     "data": {
      "application/vnd.jupyter.widget-view+json": {
       "model_id": "1571e9fa643846fdb0bd76a46c663ba6",
       "version_major": 2,
       "version_minor": 0
      },
      "text/plain": [
       "Output()"
      ]
     },
     "metadata": {},
     "output_type": "display_data"
    },
    {
     "data": {
      "text/html": [
       "<pre style=\"white-space:pre;overflow-x:auto;line-height:normal;font-family:Menlo,'DejaVu Sans Mono',consolas,'Courier New',monospace\"></pre>\n"
      ],
      "text/plain": []
     },
     "metadata": {},
     "output_type": "display_data"
    },
    {
     "name": "stderr",
     "output_type": "stream",
     "text": [
      "Sampling 4 chains for 1_000 tune and 1_000 draw iterations (4_000 + 4_000 draws total) took 17 seconds.\n"
     ]
    }
   ],
   "source": [
    "with pm.Model() as model:\n",
    "    alpha = pm.Normal(\"alpha\", mu=0, sigma=10)\n",
    "\n",
    "    # Add coefficients for each application (except reference)\n",
    "    betas = {}\n",
    "    mu = alpha\n",
    "    for col in df.columns:\n",
    "        if col.startswith(\"application_\"):\n",
    "            betas[col] = pm.Normal(col, mu=0, sigma=10)\n",
    "            mu += betas[col] * df[col]\n",
    "\n",
    "    sigma = pm.Exponential(\"sigma\", 1)\n",
    "    y = pm.Normal(\"energy\", mu=mu, sigma=sigma, observed=df[\"energy_consumption\"])\n",
    "\n",
    "    trace = pm.sample(1000, tune=1000, target_accept=0.9)\n"
   ]
  },
  {
   "cell_type": "code",
   "execution_count": 12,
   "metadata": {},
   "outputs": [
    {
     "data": {
      "text/plain": [
       "array([[<Axes: title={'center': 'application_go-gin'}>,\n",
       "        <Axes: title={'center': 'application_go-gorilla'}>,\n",
       "        <Axes: title={'center': 'application_javascript-express'}>],\n",
       "       [<Axes: title={'center': 'application_python-flask'}>,\n",
       "        <Axes: title={'center': 'application_ruby-sinatra'}>,\n",
       "        <Axes: title={'center': 'application_rust-actix'}>]], dtype=object)"
      ]
     },
     "execution_count": 12,
     "metadata": {},
     "output_type": "execute_result"
    },
    {
     "data": {
      "image/png": "[encoded data removed]",
      "text/plain": [
       "<Figure size 2208x1104 with 6 Axes>"
      ]
     },
     "metadata": {},
     "output_type": "display_data"
    }
   ],
   "source": [
    "az.plot_posterior(trace, var_names=[col for col in df.columns if col.startswith(\"application_\")])"
   ]
  }
 ],
 "metadata": {
  "kernelspec": {
   "display_name": "prpro-2025",
   "language": "python",
   "name": "python3"
  },
  "language_info": {
   "codemirror_mode": {
    "name": "ipython",
    "version": 3
   },
   "file_extension": ".py",
   "mimetype": "text/x-python",
   "name": "python",
   "nbconvert_exporter": "python",
   "pygments_lexer": "ipython3",
   "version": "3.12.8"
  }
 },
 "nbformat": 4,
 "nbformat_minor": 4
}
