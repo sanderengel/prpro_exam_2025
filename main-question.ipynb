{
 "cells": [
  {
   "cell_type": "markdown",
   "metadata": {},
   "source": [
    "# Energy consumption of a Web Application Implemented in Different Programming Languages and Web Frameworks\n",
    "*Probabilistic Programming 2025 Exam by Raúl Pardo ([raup@itu.dk](mailto:raup@itu.dk)) and Andrzej Wąsowski ([wasowski@itu.dk](mailto:wasowski@itu.dk))*<br/>\n",
    "*version 1.0.0 2025-03-20 08:40*\n"
   ]
  },
  {
   "cell_type": "markdown",
   "metadata": {},
   "source": [
    "In this exam, your task is to analyze energy consumption of different implementations of a web application.\n",
    "The goal is to determine whether there are differences in energy consumption in different implementations of the web application or in its API endpoints.\n",
    "This analysis is of utmost importance, as it might help software engineers to make informed choices that lower energy consumption. For instance, a plausible hypothesis is that lower level programming languages such as Rust consume less energy than higher level languages such as Python.\n",
    "A preconception in this domain is that running time is the driving factor in energy consumption.\n",
    "Are these true? The data in this exam and the analysis you will develop will allow to answer this type of questions."
   ]
  },
  {
   "cell_type": "markdown",
   "metadata": {},
   "source": [
    "## Data"
   ]
  },
  {
   "cell_type": "markdown",
   "metadata": {},
   "source": [
    "The dataset contains $N = 1960$ measurements of energy consumption for different implementations and functionality of a web application. For each setup, there are 20 measurements. The dataset is in the file [dataset.csv](dataset.csv). The variables in the dataset are:\n",
    "\n",
    "* **Application**. This variable has the form `<programming_language>-<web_framework>`. It specifies the programming language and web framework used in the experiment. For instance, `rust-actix` denotes the web framework Actix for the programming language Rust, or `c-sharp-razor` denotes the web framework Razor for the programming language C#.\n",
    "    * Note that if a hypothesis involves only programming language, you need to extract it from the values in this variable.\n",
    "\n",
    "* **Endpoint**. This variable refers to the API endpoints of the web application. For example, `/api/register` refers to the API endpoint used for registering users in the web application, or `/logout` is used for logging out of the system.\n",
    "\n",
    "* **Runtime**. This variable indicates the time it took to process the request to the endpoint in seconds.\n",
    "\n",
    "* **Energy consumption**. This variable indicates the energy consumed for processing the request to the endpoint in Joules.\n",
    "\n",
    "Each row in the dataset is a measurement of the total energy consumed and runtime after processing a request in the corresponding API endpoint. The *Application* variable in each row indicates the web framework used for the measurement."
   ]
  },
  {
   "cell_type": "markdown",
   "metadata": {},
   "source": [
    "## Hypotheses\n",
    "\n",
    "To analyze energy consumption in the different implementations, you must investigate the following hypotheses:\n",
    "\n",
    "* **H1** - The web framework `c-sharp-razor` consumes more energy than any other web framework in the dataset.\n",
    "\n",
    "* **H2** - The programming language `javascript` consumes the least amount of energy compared to any other programming language in the dataset.\n",
    "\n",
    "* **H3** - Runtime has a stronger impact on energy consumption for some API endpoints than others. That is, the effect of runtime on energy consumption is larger for some API endpoints than others."
   ]
  },
  {
   "cell_type": "markdown",
   "metadata": {},
   "source": [
    "Your task is to use Bayesian Inference and Regression to decide whether these hypotheses hold, or possibly reject them. This includes:\n",
    "\n",
    "* Loading, restructuring and transforming the data as needed.\n",
    "\n",
    "* Designing Bayesian regression models and using inference algorithms to test the above hypotheses in PyMC.\n",
    "\n",
    "* Explaining your model idea in English, preferably using a figure, and showing the Python code.\n",
    "\n",
    "* Checking and reflecting (in writing) on the quality of the sampling process, considering warnings from the tool, sampling summary statistics, trace plots, and autocorrelation plots. Comment whether the quality of the sampled trace is good, and whether you had to make any adjustments during modeling and/or sampling.\n",
    "\n",
    "* Visualizing the posterior information appropriately to address the hypotheses.\n",
    "  \n",
    "\n",
    "You should hand in a zip file with a Jupyter notebook and the data file (so that we can run it), and a **PDF file rendering of the Jupyter notebook**, so that your work can be assessed just by reading this file. It appears that the best PDF rendering is obtained by File / Export to HTML, and then saving/printing to PDF from your browser.\n",
    "\n",
    "Make sure the notebook is actually a **report** readable to the examiners, especially to the censor who has not followed the course. The report should include:\n",
    "* A brief introduction.\n",
    "* Explanations on how data is loaded and cleaned.\n",
    "* Explanations on analysis and model design (for each of the models you consider).\n",
    "* A discussion of sampling quality (for each model) and all the plots that you present, and a reflection/decision on the outcome for each hypothesis.\n",
    "* An overall conclusion.\n",
    "\n",
    "**IMPORTANT:** For the tasks below, your code must accompany an explanation of its meaning and intended purpose. **Source code alone is not self-explanatory**. As mentioned above, you should also reflect on the results you get, e.g., highlighting issues with the data, or issues, pitfalls and assumptions of a model. **Exams containing only source code or very scarce explanations will result in low grades, including failing grades.**\n",
    "\n"
   ]
  },
  {
   "cell_type": "markdown",
   "metadata": {},
   "source": [
    "\n",
    "\n",
    "## Minimum requirements \n",
    "\n",
    "1. Design a regression model to predict energy consumption using web framework as a predictor.\n",
    "  \n",
    "2. Analyze hypothesis H1 using the regression model in (1.).\n",
    "\n",
    "## Ideas for extension\n",
    "\n",
    "**Groups aiming at grade 7 and more should complete the following tasks:**\n",
    "    \n",
    "3. Analyze hypothesis H2, if necessary design a new model.\n",
    "        \n",
    "4. Perform prior predictive checks in all your models. Explain why the priors you selected are appropriate.\n",
    "    \n",
    "5. Perform posterior predictive checks in all your models. Discuss the results in the posterior predictive checks.\n",
    "    \n",
    "6. Discuss trace convergence in all your models.\n",
    "    \n",
    "**Groups aiming at grade 10 and higher should try 3-5 ideas from below or add some of your own:**\n",
    "\n",
    "7. Analyze hypothesis H3, if necessary design a new model.\n",
    "    \n",
    "8. Perform a counterfactual analysis in your model for H3: For each endpoint, plot posterior predictions on energy consumption for a runtime value much larger than those in the dataset. Does this affect/introduce differences between energy consumption for different endpoints?\n",
    "    \n",
    "9. Design models with a transformation of the predicted variable, i.e., energy consumption. For instance, \n",
    "    * Build a model to analyze the probability that the energy consumption of a web framework is below 0.4 Joules. You may consider versions of this task involving other predictors.\n",
    "    * Transform energy consumption into an ordinal variable representing an energy mark, e.g., an energy consumption in 0.0-0.2 is energy mark A, energy consumption in 0.2-0.4 is energy mark B and energy consumption of ≥ 0.4 is energy mark C. Use an ordinal regression model to analyze the energy mark of each framework. You may consider versions of this task involving other predictors.\n",
    "    \n",
    "10. Use information criteria to compare the models to analyze H1, H2 and H3.\n",
    "    \n",
    "11. Design a meaningful multilevel model in the context of these data.\n",
    "   \n",
    "12. Use causal reasoning to analyze causal relations between the variables in the dataset."
   ]
  },
  {
   "cell_type": "markdown",
   "metadata": {
    "vscode": {
     "languageId": "plaintext"
    }
   },
   "source": [
    "---"
   ]
  },
  {
   "cell_type": "code",
   "execution_count": null,
   "metadata": {},
   "outputs": [],
   "source": [
    "import numpy as np\n",
    "import pandas as pd\n",
    "import arviz as az\n",
    "import pymc as pm\n",
    "import matplotlib.pyplot as plt"
   ]
  },
  {
   "cell_type": "code",
   "execution_count": null,
   "metadata": {},
   "outputs": [],
   "source": [
    "df = pd.read_csv('dataset.csv')"
   ]
  },
  {
   "cell_type": "code",
   "execution_count": null,
   "metadata": {},
   "outputs": [],
   "source": [
    "df"
   ]
  }
 ],
 "metadata": {
  "kernelspec": {
   "display_name": "prpro-2025",
   "language": "python",
   "name": "prpro-2025"
  },
  "language_info": {
   "codemirror_mode": {
    "name": "ipython",
    "version": 3
   },
   "file_extension": ".py",
   "mimetype": "text/x-python",
   "name": "python",
   "nbconvert_exporter": "python",
   "pygments_lexer": "ipython3",
   "version": "3.12.8"
  }
 },
 "nbformat": 4,
 "nbformat_minor": 4
}
